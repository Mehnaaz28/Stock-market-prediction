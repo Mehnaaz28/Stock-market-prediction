{
  "nbformat": 4,
  "nbformat_minor": 0,
  "metadata": {
    "colab": {
      "provenance": [],
      "authorship_tag": "ABX9TyM6kpE7ohNCsvO7G3OpAsuV",
      "include_colab_link": true
    },
    "kernelspec": {
      "name": "python3",
      "display_name": "Python 3"
    },
    "language_info": {
      "name": "python"
    }
  },
  "cells": [
    {
      "cell_type": "markdown",
      "metadata": {
        "id": "view-in-github",
        "colab_type": "text"
      },
      "source": [
        "<a href=\"https://colab.research.google.com/github/Mehnaaz28/Stock-market-prediction/blob/main/Stock_price_prediction.ipynb\" target=\"_parent\"><img src=\"https://colab.research.google.com/assets/colab-badge.svg\" alt=\"Open In Colab\"/></a>"
      ]
    },
    {
      "cell_type": "code",
      "execution_count": null,
      "metadata": {
        "id": "3iaPpBxvFMH4"
      },
      "outputs": [],
      "source": [
        "import numpy as np\n",
        "import matplotlib.pyplot as plt\n",
        "import pandas as pd\n",
        "import datetime"
      ]
    },
    {
      "cell_type": "code",
      "source": [
        "dataset=pd.read_csv(\"/content/Google_Stock_Price_Test.csv.xls\", index_col=\"Date\", parse_dates=True)\n"
      ],
      "metadata": {
        "id": "1YWjwLpkFmd_"
      },
      "execution_count": null,
      "outputs": []
    },
    {
      "cell_type": "code",
      "source": [
        "dataset.head()\n",
        "\n"
      ],
      "metadata": {
        "id": "fTnSw4sVFmhA",
        "colab": {
          "base_uri": "https://localhost:8080/",
          "height": 237
        },
        "outputId": "cc0c013c-8fcd-486f-a0c0-744ab61dede2"
      },
      "execution_count": null,
      "outputs": [
        {
          "output_type": "execute_result",
          "data": {
            "text/plain": [
              "                Open    High     Low   Close    Volume\n",
              "Date                                                  \n",
              "2012-01-03  32525.00  332.83  324.97  325.59   7380500\n",
              "2012-01-04    331.27  333.87  329.08  332.45   5749400\n",
              "2012-01-05    329.83  330.75  326.89  330.21   6593000\n",
              "2012-01-06    328.34  328.77  323.68  328.24   5405900\n",
              "2012-01-09    322.04  322.29  309.46  321.76  11688800"
            ],
            "text/html": [
              "\n",
              "  <div id=\"df-1bd0cae9-3f82-4eb0-8fae-fbb4545480ac\">\n",
              "    <div class=\"colab-df-container\">\n",
              "      <div>\n",
              "<style scoped>\n",
              "    .dataframe tbody tr th:only-of-type {\n",
              "        vertical-align: middle;\n",
              "    }\n",
              "\n",
              "    .dataframe tbody tr th {\n",
              "        vertical-align: top;\n",
              "    }\n",
              "\n",
              "    .dataframe thead th {\n",
              "        text-align: right;\n",
              "    }\n",
              "</style>\n",
              "<table border=\"1\" class=\"dataframe\">\n",
              "  <thead>\n",
              "    <tr style=\"text-align: right;\">\n",
              "      <th></th>\n",
              "      <th>Open</th>\n",
              "      <th>High</th>\n",
              "      <th>Low</th>\n",
              "      <th>Close</th>\n",
              "      <th>Volume</th>\n",
              "    </tr>\n",
              "    <tr>\n",
              "      <th>Date</th>\n",
              "      <th></th>\n",
              "      <th></th>\n",
              "      <th></th>\n",
              "      <th></th>\n",
              "      <th></th>\n",
              "    </tr>\n",
              "  </thead>\n",
              "  <tbody>\n",
              "    <tr>\n",
              "      <th>2012-01-03</th>\n",
              "      <td>32525.00</td>\n",
              "      <td>332.83</td>\n",
              "      <td>324.97</td>\n",
              "      <td>325.59</td>\n",
              "      <td>7380500</td>\n",
              "    </tr>\n",
              "    <tr>\n",
              "      <th>2012-01-04</th>\n",
              "      <td>331.27</td>\n",
              "      <td>333.87</td>\n",
              "      <td>329.08</td>\n",
              "      <td>332.45</td>\n",
              "      <td>5749400</td>\n",
              "    </tr>\n",
              "    <tr>\n",
              "      <th>2012-01-05</th>\n",
              "      <td>329.83</td>\n",
              "      <td>330.75</td>\n",
              "      <td>326.89</td>\n",
              "      <td>330.21</td>\n",
              "      <td>6593000</td>\n",
              "    </tr>\n",
              "    <tr>\n",
              "      <th>2012-01-06</th>\n",
              "      <td>328.34</td>\n",
              "      <td>328.77</td>\n",
              "      <td>323.68</td>\n",
              "      <td>328.24</td>\n",
              "      <td>5405900</td>\n",
              "    </tr>\n",
              "    <tr>\n",
              "      <th>2012-01-09</th>\n",
              "      <td>322.04</td>\n",
              "      <td>322.29</td>\n",
              "      <td>309.46</td>\n",
              "      <td>321.76</td>\n",
              "      <td>11688800</td>\n",
              "    </tr>\n",
              "  </tbody>\n",
              "</table>\n",
              "</div>\n",
              "      <button class=\"colab-df-convert\" onclick=\"convertToInteractive('df-1bd0cae9-3f82-4eb0-8fae-fbb4545480ac')\"\n",
              "              title=\"Convert this dataframe to an interactive table.\"\n",
              "              style=\"display:none;\">\n",
              "        \n",
              "  <svg xmlns=\"http://www.w3.org/2000/svg\" height=\"24px\"viewBox=\"0 0 24 24\"\n",
              "       width=\"24px\">\n",
              "    <path d=\"M0 0h24v24H0V0z\" fill=\"none\"/>\n",
              "    <path d=\"M18.56 5.44l.94 2.06.94-2.06 2.06-.94-2.06-.94-.94-2.06-.94 2.06-2.06.94zm-11 1L8.5 8.5l.94-2.06 2.06-.94-2.06-.94L8.5 2.5l-.94 2.06-2.06.94zm10 10l.94 2.06.94-2.06 2.06-.94-2.06-.94-.94-2.06-.94 2.06-2.06.94z\"/><path d=\"M17.41 7.96l-1.37-1.37c-.4-.4-.92-.59-1.43-.59-.52 0-1.04.2-1.43.59L10.3 9.45l-7.72 7.72c-.78.78-.78 2.05 0 2.83L4 21.41c.39.39.9.59 1.41.59.51 0 1.02-.2 1.41-.59l7.78-7.78 2.81-2.81c.8-.78.8-2.07 0-2.86zM5.41 20L4 18.59l7.72-7.72 1.47 1.35L5.41 20z\"/>\n",
              "  </svg>\n",
              "      </button>\n",
              "      \n",
              "  <style>\n",
              "    .colab-df-container {\n",
              "      display:flex;\n",
              "      flex-wrap:wrap;\n",
              "      gap: 12px;\n",
              "    }\n",
              "\n",
              "    .colab-df-convert {\n",
              "      background-color: #E8F0FE;\n",
              "      border: none;\n",
              "      border-radius: 50%;\n",
              "      cursor: pointer;\n",
              "      display: none;\n",
              "      fill: #1967D2;\n",
              "      height: 32px;\n",
              "      padding: 0 0 0 0;\n",
              "      width: 32px;\n",
              "    }\n",
              "\n",
              "    .colab-df-convert:hover {\n",
              "      background-color: #E2EBFA;\n",
              "      box-shadow: 0px 1px 2px rgba(60, 64, 67, 0.3), 0px 1px 3px 1px rgba(60, 64, 67, 0.15);\n",
              "      fill: #174EA6;\n",
              "    }\n",
              "\n",
              "    [theme=dark] .colab-df-convert {\n",
              "      background-color: #3B4455;\n",
              "      fill: #D2E3FC;\n",
              "    }\n",
              "\n",
              "    [theme=dark] .colab-df-convert:hover {\n",
              "      background-color: #434B5C;\n",
              "      box-shadow: 0px 1px 3px 1px rgba(0, 0, 0, 0.15);\n",
              "      filter: drop-shadow(0px 1px 2px rgba(0, 0, 0, 0.3));\n",
              "      fill: #FFFFFF;\n",
              "    }\n",
              "  </style>\n",
              "\n",
              "      <script>\n",
              "        const buttonEl =\n",
              "          document.querySelector('#df-1bd0cae9-3f82-4eb0-8fae-fbb4545480ac button.colab-df-convert');\n",
              "        buttonEl.style.display =\n",
              "          google.colab.kernel.accessAllowed ? 'block' : 'none';\n",
              "\n",
              "        async function convertToInteractive(key) {\n",
              "          const element = document.querySelector('#df-1bd0cae9-3f82-4eb0-8fae-fbb4545480ac');\n",
              "          const dataTable =\n",
              "            await google.colab.kernel.invokeFunction('convertToInteractive',\n",
              "                                                     [key], {});\n",
              "          if (!dataTable) return;\n",
              "\n",
              "          const docLinkHtml = 'Like what you see? Visit the ' +\n",
              "            '<a target=\"_blank\" href=https://colab.research.google.com/notebooks/data_table.ipynb>data table notebook</a>'\n",
              "            + ' to learn more about interactive tables.';\n",
              "          element.innerHTML = '';\n",
              "          dataTable['output_type'] = 'display_data';\n",
              "          await google.colab.output.renderOutput(dataTable, element);\n",
              "          const docLink = document.createElement('div');\n",
              "          docLink.innerHTML = docLinkHtml;\n",
              "          element.appendChild(docLink);\n",
              "        }\n",
              "      </script>\n",
              "    </div>\n",
              "  </div>\n",
              "  "
            ]
          },
          "metadata": {},
          "execution_count": 73
        }
      ]
    },
    {
      "cell_type": "code",
      "source": [
        "dataset.isna().any()\n",
        "\n"
      ],
      "metadata": {
        "colab": {
          "base_uri": "https://localhost:8080/"
        },
        "id": "_fJeaB4zFmjh",
        "outputId": "fe14bd2b-254b-4433-dfe8-7516022c379f"
      },
      "execution_count": null,
      "outputs": [
        {
          "output_type": "execute_result",
          "data": {
            "text/plain": [
              "Open      False\n",
              "High      False\n",
              "Low       False\n",
              "Close     False\n",
              "Volume    False\n",
              "dtype: bool"
            ]
          },
          "metadata": {},
          "execution_count": 74
        }
      ]
    },
    {
      "cell_type": "code",
      "source": [
        "dataset.info()\n"
      ],
      "metadata": {
        "colab": {
          "base_uri": "https://localhost:8080/"
        },
        "id": "YUVKhlQ8Fml-",
        "outputId": "fccb6977-c898-499e-b45a-96c152de5059"
      },
      "execution_count": null,
      "outputs": [
        {
          "output_type": "stream",
          "name": "stdout",
          "text": [
            "<class 'pandas.core.frame.DataFrame'>\n",
            "DatetimeIndex: 5 entries, 2012-01-03 to 2012-01-09\n",
            "Data columns (total 5 columns):\n",
            " #   Column  Non-Null Count  Dtype  \n",
            "---  ------  --------------  -----  \n",
            " 0   Open    5 non-null      float64\n",
            " 1   High    5 non-null      float64\n",
            " 2   Low     5 non-null      float64\n",
            " 3   Close   5 non-null      float64\n",
            " 4   Volume  5 non-null      int64  \n",
            "dtypes: float64(4), int64(1)\n",
            "memory usage: 240.0 bytes\n"
          ]
        }
      ]
    },
    {
      "cell_type": "code",
      "source": [
        "dataset['Open'].plot(figsize=(16,6))\n"
      ],
      "metadata": {
        "id": "2FGmzFMsFmo0",
        "colab": {
          "base_uri": "https://localhost:8080/",
          "height": 401
        },
        "outputId": "17d99237-db0e-41c3-ef21-e5a3b9f19d67"
      },
      "execution_count": null,
      "outputs": [
        {
          "output_type": "execute_result",
          "data": {
            "text/plain": [
              "<Axes: xlabel='Date'>"
            ]
          },
          "metadata": {},
          "execution_count": 36
        },
        {
          "output_type": "display_data",
          "data": {
            "text/plain": [
              "<Figure size 1600x600 with 1 Axes>"
            ],
            "image/png": "[encoded data removed]"
          },
          "metadata": {}
        }
      ]
    },
    {
      "cell_type": "code",
      "source": [
        "dataset[\"Close\"]=dataset[\"Close\"].astype(str).str.replace(',','').astype(float)\n"
      ],
      "metadata": {
        "id": "ou-RFUZEDYwE"
      },
      "execution_count": null,
      "outputs": []
    },
    {
      "cell_type": "code",
      "source": [
        "dataset[\"Volume\"]=dataset[\"Volume\"].astype(str).str.replace(',','').astype(float)"
      ],
      "metadata": {
        "id": "-TiQz1K6DYyx"
      },
      "execution_count": null,
      "outputs": []
    },
    {
      "cell_type": "code",
      "source": [
        "dataset.rolling(7).mean().head(20)\n",
        "dataset.dropna()"
      ],
      "metadata": {
        "colab": {
          "base_uri": "https://localhost:8080/",
          "height": 237
        },
        "id": "Ff5GLBtbDY3h",
        "outputId": "90b3722b-8988-42ea-e239-1764e8ff8a13"
      },
      "execution_count": null,
      "outputs": [
        {
          "output_type": "execute_result",
          "data": {
            "text/plain": [
              "              Open    High     Low   Close    Volume\n",
              "Date                                                \n",
              "01-03-2012  325.25  332.83  324.97  325.59   7380500\n",
              "01-04-2012  331.27  333.87  329.08  332.45   5749400\n",
              "01-05-2012  329.83  330.75  326.89  330.21   6593000\n",
              "01-06-2012  328.34  328.77  323.68  328.24   5405900\n",
              "01-09-2012  322.04  322.29  309.46  321.76  11688800"
            ],
            "text/html": [
              "\n",
              "  <div id=\"df-e78b13aa-4cc3-45fb-827d-d79011127ec5\">\n",
              "    <div class=\"colab-df-container\">\n",
              "      <div>\n",
              "<style scoped>\n",
              "    .dataframe tbody tr th:only-of-type {\n",
              "        vertical-align: middle;\n",
              "    }\n",
              "\n",
              "    .dataframe tbody tr th {\n",
              "        vertical-align: top;\n",
              "    }\n",
              "\n",
              "    .dataframe thead th {\n",
              "        text-align: right;\n",
              "    }\n",
              "</style>\n",
              "<table border=\"1\" class=\"dataframe\">\n",
              "  <thead>\n",
              "    <tr style=\"text-align: right;\">\n",
              "      <th></th>\n",
              "      <th>Open</th>\n",
              "      <th>High</th>\n",
              "      <th>Low</th>\n",
              "      <th>Close</th>\n",
              "      <th>Volume</th>\n",
              "    </tr>\n",
              "    <tr>\n",
              "      <th>Date</th>\n",
              "      <th></th>\n",
              "      <th></th>\n",
              "      <th></th>\n",
              "      <th></th>\n",
              "      <th></th>\n",
              "    </tr>\n",
              "  </thead>\n",
              "  <tbody>\n",
              "    <tr>\n",
              "      <th>01-03-2012</th>\n",
              "      <td>325.25</td>\n",
              "      <td>332.83</td>\n",
              "      <td>324.97</td>\n",
              "      <td>325.59</td>\n",
              "      <td>7380500</td>\n",
              "    </tr>\n",
              "    <tr>\n",
              "      <th>01-04-2012</th>\n",
              "      <td>331.27</td>\n",
              "      <td>333.87</td>\n",
              "      <td>329.08</td>\n",
              "      <td>332.45</td>\n",
              "      <td>5749400</td>\n",
              "    </tr>\n",
              "    <tr>\n",
              "      <th>01-05-2012</th>\n",
              "      <td>329.83</td>\n",
              "      <td>330.75</td>\n",
              "      <td>326.89</td>\n",
              "      <td>330.21</td>\n",
              "      <td>6593000</td>\n",
              "    </tr>\n",
              "    <tr>\n",
              "      <th>01-06-2012</th>\n",
              "      <td>328.34</td>\n",
              "      <td>328.77</td>\n",
              "      <td>323.68</td>\n",
              "      <td>328.24</td>\n",
              "      <td>5405900</td>\n",
              "    </tr>\n",
              "    <tr>\n",
              "      <th>01-09-2012</th>\n",
              "      <td>322.04</td>\n",
              "      <td>322.29</td>\n",
              "      <td>309.46</td>\n",
              "      <td>321.76</td>\n",
              "      <td>11688800</td>\n",
              "    </tr>\n",
              "  </tbody>\n",
              "</table>\n",
              "</div>\n",
              "      <button class=\"colab-df-convert\" onclick=\"convertToInteractive('df-e78b13aa-4cc3-45fb-827d-d79011127ec5')\"\n",
              "              title=\"Convert this dataframe to an interactive table.\"\n",
              "              style=\"display:none;\">\n",
              "        \n",
              "  <svg xmlns=\"http://www.w3.org/2000/svg\" height=\"24px\"viewBox=\"0 0 24 24\"\n",
              "       width=\"24px\">\n",
              "    <path d=\"M0 0h24v24H0V0z\" fill=\"none\"/>\n",
              "    <path d=\"M18.56 5.44l.94 2.06.94-2.06 2.06-.94-2.06-.94-.94-2.06-.94 2.06-2.06.94zm-11 1L8.5 8.5l.94-2.06 2.06-.94-2.06-.94L8.5 2.5l-.94 2.06-2.06.94zm10 10l.94 2.06.94-2.06 2.06-.94-2.06-.94-.94-2.06-.94 2.06-2.06.94z\"/><path d=\"M17.41 7.96l-1.37-1.37c-.4-.4-.92-.59-1.43-.59-.52 0-1.04.2-1.43.59L10.3 9.45l-7.72 7.72c-.78.78-.78 2.05 0 2.83L4 21.41c.39.39.9.59 1.41.59.51 0 1.02-.2 1.41-.59l7.78-7.78 2.81-2.81c.8-.78.8-2.07 0-2.86zM5.41 20L4 18.59l7.72-7.72 1.47 1.35L5.41 20z\"/>\n",
              "  </svg>\n",
              "      </button>\n",
              "      \n",
              "  <style>\n",
              "    .colab-df-container {\n",
              "      display:flex;\n",
              "      flex-wrap:wrap;\n",
              "      gap: 12px;\n",
              "    }\n",
              "\n",
              "    .colab-df-convert {\n",
              "      background-color: #E8F0FE;\n",
              "      border: none;\n",
              "      border-radius: 50%;\n",
              "      cursor: pointer;\n",
              "      display: none;\n",
              "      fill: #1967D2;\n",
              "      height: 32px;\n",
              "      padding: 0 0 0 0;\n",
              "      width: 32px;\n",
              "    }\n",
              "\n",
              "    .colab-df-convert:hover {\n",
              "      background-color: #E2EBFA;\n",
              "      box-shadow: 0px 1px 2px rgba(60, 64, 67, 0.3), 0px 1px 3px 1px rgba(60, 64, 67, 0.15);\n",
              "      fill: #174EA6;\n",
              "    }\n",
              "\n",
              "    [theme=dark] .colab-df-convert {\n",
              "      background-color: #3B4455;\n",
              "      fill: #D2E3FC;\n",
              "    }\n",
              "\n",
              "    [theme=dark] .colab-df-convert:hover {\n",
              "      background-color: #434B5C;\n",
              "      box-shadow: 0px 1px 3px 1px rgba(0, 0, 0, 0.15);\n",
              "      filter: drop-shadow(0px 1px 2px rgba(0, 0, 0, 0.3));\n",
              "      fill: #FFFFFF;\n",
              "    }\n",
              "  </style>\n",
              "\n",
              "      <script>\n",
              "        const buttonEl =\n",
              "          document.querySelector('#df-e78b13aa-4cc3-45fb-827d-d79011127ec5 button.colab-df-convert');\n",
              "        buttonEl.style.display =\n",
              "          google.colab.kernel.accessAllowed ? 'block' : 'none';\n",
              "\n",
              "        async function convertToInteractive(key) {\n",
              "          const element = document.querySelector('#df-e78b13aa-4cc3-45fb-827d-d79011127ec5');\n",
              "          const dataTable =\n",
              "            await google.colab.kernel.invokeFunction('convertToInteractive',\n",
              "                                                     [key], {});\n",
              "          if (!dataTable) return;\n",
              "\n",
              "          const docLinkHtml = 'Like what you see? Visit the ' +\n",
              "            '<a target=\"_blank\" href=https://colab.research.google.com/notebooks/data_table.ipynb>data table notebook</a>'\n",
              "            + ' to learn more about interactive tables.';\n",
              "          element.innerHTML = '';\n",
              "          dataTable['output_type'] = 'display_data';\n",
              "          await google.colab.output.renderOutput(dataTable, element);\n",
              "          const docLink = document.createElement('div');\n",
              "          docLink.innerHTML = docLinkHtml;\n",
              "          element.appendChild(docLink);\n",
              "        }\n",
              "      </script>\n",
              "    </div>\n",
              "  </div>\n",
              "  "
            ]
          },
          "metadata": {},
          "execution_count": 69
        }
      ]
    },
    {
      "cell_type": "code",
      "source": [
        "dataset['Open'].plot(figsize=(16,6))\n",
        "dataset.rolling(window=30).mean()['Close'].plot()\n",
        "\n"
      ],
      "metadata": {
        "colab": {
          "base_uri": "https://localhost:8080/",
          "height": 401
        },
        "id": "SX7k4fHUEDGP",
        "outputId": "15e149e7-c396-4520-edbd-a4a9b2f261cf"
      },
      "execution_count": null,
      "outputs": [
        {
          "output_type": "execute_result",
          "data": {
            "text/plain": [
              "<Axes: xlabel='Date'>"
            ]
          },
          "metadata": {},
          "execution_count": 40
        },
        {
          "output_type": "display_data",
          "data": {
            "text/plain": [
              "<Figure size 1600x600 with 1 Axes>"
            ],
            "image/png": "[encoded data removed]"
          },
          "metadata": {}
        }
      ]
    },
    {
      "cell_type": "code",
      "source": [
        "dataset['Close:30 Day Mean']=dataset['Close'].rolling(window=30).mean()\n",
        "dataset[['Close','Close:30 Day Mean']].plot(figsize=(16,6))"
      ],
      "metadata": {
        "colab": {
          "base_uri": "https://localhost:8080/",
          "height": 401
        },
        "id": "3dCQFGxREDIu",
        "outputId": "80cbc9f0-19b3-4b9e-ad91-a9e46dd097b0"
      },
      "execution_count": null,
      "outputs": [
        {
          "output_type": "execute_result",
          "data": {
            "text/plain": [
              "<Axes: xlabel='Date'>"
            ]
          },
          "metadata": {},
          "execution_count": 41
        },
        {
          "output_type": "display_data",
          "data": {
            "text/plain": [
              "<Figure size 1600x600 with 1 Axes>"
            ],
            "image/png": "[encoded data removed]"
          },
          "metadata": {}
        }
      ]
    },
    {
      "cell_type": "code",
      "source": [
        "dataset['Close'].expanding(min_periods=1).mean().plot(figsize=(16,6))"
      ],
      "metadata": {
        "colab": {
          "base_uri": "https://localhost:8080/",
          "height": 397
        },
        "id": "zPFNdlnaEDLd",
        "outputId": "e3d77879-1f25-455a-e095-1ccb82d2220b"
      },
      "execution_count": null,
      "outputs": [
        {
          "output_type": "execute_result",
          "data": {
            "text/plain": [
              "<Axes: xlabel='Date'>"
            ]
          },
          "metadata": {},
          "execution_count": 42
        },
        {
          "output_type": "display_data",
          "data": {
            "text/plain": [
              "<Figure size 1600x600 with 1 Axes>"
            ],
            "image/png": "[encoded data removed]"
          },
          "metadata": {}
        }
      ]
    },
    {
      "cell_type": "code",
      "source": [
        "\n",
        "training_set=dataset['Open']\n",
        "training_set=pd.DataFrame(training_set)"
      ],
      "metadata": {
        "id": "X5qvgnH3EDOA"
      },
      "execution_count": null,
      "outputs": []
    },
    {
      "cell_type": "code",
      "source": [
        "from sklearn.preprocessing import MinMaxScaler\n",
        "sc=MinMaxScaler(feature_range=(0,1))\n",
        "training_set_scaled=sc.fit_transform(training_set)"
      ],
      "metadata": {
        "id": "gm57qWkxENW9"
      },
      "execution_count": null,
      "outputs": []
    },
    {
      "cell_type": "code",
      "source": [
        "X_train=[]\n",
        "y_train=[]\n",
        "for i in range(1,5):\n",
        "    X_train.append(training_set_scaled[i-1:i,0])\n",
        "    y_train.append(training_set_scaled[i,0])\n",
        "X_train,y_train=np.array(X_train), np.array(y_train)\n",
        "X_train=np.reshape(X_train,(X_train.shape[0],X_train.shape[1],1))"
      ],
      "metadata": {
        "id": "Q6gnl2xuENYt"
      },
      "execution_count": null,
      "outputs": []
    },
    {
      "cell_type": "code",
      "source": [
        "\n",
        "from keras.models import Sequential\n",
        "from keras.layers import Dense\n",
        "from keras.layers import LSTM\n",
        "from keras.layers import Dropout"
      ],
      "metadata": {
        "id": "h3AxpyqlENbc"
      },
      "execution_count": null,
      "outputs": []
    },
    {
      "cell_type": "code",
      "source": [
        "\n",
        "regressor=Sequential()"
      ],
      "metadata": {
        "id": "xlkodhcPENef"
      },
      "execution_count": null,
      "outputs": []
    },
    {
      "cell_type": "code",
      "source": [
        "\n",
        "regressor.add(LSTM(units=50, return_sequences=True, input_shape=(X_train.shape[1],1)))\n",
        "regressor.add(Dropout(0.2))\n",
        "regressor.add(LSTM(units=50, return_sequences=True))\n",
        "regressor.add(Dropout(0.2))\n",
        "regressor.add(LSTM(units=50, return_sequences=True))\n",
        "regressor.add(Dropout(0.2))\n",
        "regressor.add(LSTM(units=50))"
      ],
      "metadata": {
        "id": "XufN_GaZEcAS"
      },
      "execution_count": null,
      "outputs": []
    },
    {
      "cell_type": "code",
      "source": [
        "regressor.add(Dropout(0.2))\n",
        "regressor.add(Dense(units=1))"
      ],
      "metadata": {
        "id": "ufYyQcKqEcDt"
      },
      "execution_count": null,
      "outputs": []
    },
    {
      "cell_type": "code",
      "source": [
        "regressor.compile(optimizer='adam', loss='mean_squared_error')\n",
        "regressor.fit(X_train, y_train, epochs=100,batch_size=32)"
      ],
      "metadata": {
        "colab": {
          "base_uri": "https://localhost:8080/"
        },
        "id": "y4C_MqysEcGU",
        "outputId": "5f91b34f-c3cd-4ced-d8b6-ec75c9a2eab3"
      },
      "execution_count": null,
      "outputs": [
        {
          "output_type": "stream",
          "name": "stdout",
          "text": [
            "Epoch 1/100\n",
            "1/1 [==============================] - 9s 9s/step - loss: 0.5445\n",
            "Epoch 2/100\n",
            "1/1 [==============================] - 0s 19ms/step - loss: 0.5400\n",
            "Epoch 3/100\n",
            "1/1 [==============================] - 0s 16ms/step - loss: 0.5356\n",
            "Epoch 4/100\n",
            "1/1 [==============================] - 0s 14ms/step - loss: 0.5306\n",
            "Epoch 5/100\n",
            "1/1 [==============================] - 0s 15ms/step - loss: 0.5276\n",
            "Epoch 6/100\n",
            "1/1 [==============================] - 0s 14ms/step - loss: 0.5225\n",
            "Epoch 7/100\n",
            "1/1 [==============================] - 0s 14ms/step - loss: 0.5160\n",
            "Epoch 8/100\n",
            "1/1 [==============================] - 0s 13ms/step - loss: 0.5108\n",
            "Epoch 9/100\n",
            "1/1 [==============================] - 0s 17ms/step - loss: 0.5076\n",
            "Epoch 10/100\n",
            "1/1 [==============================] - 0s 13ms/step - loss: 0.5014\n",
            "Epoch 11/100\n",
            "1/1 [==============================] - 0s 17ms/step - loss: 0.5014\n",
            "Epoch 12/100\n",
            "1/1 [==============================] - 0s 17ms/step - loss: 0.4920\n",
            "Epoch 13/100\n",
            "1/1 [==============================] - 0s 18ms/step - loss: 0.4894\n",
            "Epoch 14/100\n",
            "1/1 [==============================] - 0s 20ms/step - loss: 0.4835\n",
            "Epoch 15/100\n",
            "1/1 [==============================] - 0s 15ms/step - loss: 0.4730\n",
            "Epoch 16/100\n",
            "1/1 [==============================] - 0s 16ms/step - loss: 0.4681\n",
            "Epoch 17/100\n",
            "1/1 [==============================] - 0s 18ms/step - loss: 0.4634\n",
            "Epoch 18/100\n",
            "1/1 [==============================] - 0s 13ms/step - loss: 0.4530\n",
            "Epoch 19/100\n",
            "1/1 [==============================] - 0s 22ms/step - loss: 0.4520\n",
            "Epoch 20/100\n",
            "1/1 [==============================] - 0s 19ms/step - loss: 0.4498\n",
            "Epoch 21/100\n",
            "1/1 [==============================] - 0s 19ms/step - loss: 0.4398\n",
            "Epoch 22/100\n",
            "1/1 [==============================] - 0s 16ms/step - loss: 0.4347\n",
            "Epoch 23/100\n",
            "1/1 [==============================] - 0s 17ms/step - loss: 0.4319\n",
            "Epoch 24/100\n",
            "1/1 [==============================] - 0s 18ms/step - loss: 0.4176\n",
            "Epoch 25/100\n",
            "1/1 [==============================] - 0s 16ms/step - loss: 0.4131\n",
            "Epoch 26/100\n",
            "1/1 [==============================] - 0s 15ms/step - loss: 0.3934\n",
            "Epoch 27/100\n",
            "1/1 [==============================] - 0s 14ms/step - loss: 0.3882\n",
            "Epoch 28/100\n",
            "1/1 [==============================] - 0s 16ms/step - loss: 0.3776\n",
            "Epoch 29/100\n",
            "1/1 [==============================] - 0s 17ms/step - loss: 0.3739\n",
            "Epoch 30/100\n",
            "1/1 [==============================] - 0s 15ms/step - loss: 0.3644\n",
            "Epoch 31/100\n",
            "1/1 [==============================] - 0s 16ms/step - loss: 0.3526\n",
            "Epoch 32/100\n",
            "1/1 [==============================] - 0s 15ms/step - loss: 0.3445\n",
            "Epoch 33/100\n",
            "1/1 [==============================] - 0s 17ms/step - loss: 0.3242\n",
            "Epoch 34/100\n",
            "1/1 [==============================] - 0s 16ms/step - loss: 0.3035\n",
            "Epoch 35/100\n",
            "1/1 [==============================] - 0s 15ms/step - loss: 0.3049\n",
            "Epoch 36/100\n",
            "1/1 [==============================] - 0s 15ms/step - loss: 0.3010\n",
            "Epoch 37/100\n",
            "1/1 [==============================] - 0s 15ms/step - loss: 0.2786\n",
            "Epoch 38/100\n",
            "1/1 [==============================] - 0s 17ms/step - loss: 0.2844\n",
            "Epoch 39/100\n",
            "1/1 [==============================] - 0s 16ms/step - loss: 0.2370\n",
            "Epoch 40/100\n",
            "1/1 [==============================] - 0s 16ms/step - loss: 0.2273\n",
            "Epoch 41/100\n",
            "1/1 [==============================] - 0s 17ms/step - loss: 0.2455\n",
            "Epoch 42/100\n",
            "1/1 [==============================] - 0s 15ms/step - loss: 0.2264\n",
            "Epoch 43/100\n",
            "1/1 [==============================] - 0s 20ms/step - loss: 0.1880\n",
            "Epoch 44/100\n",
            "1/1 [==============================] - 0s 24ms/step - loss: 0.2272\n",
            "Epoch 45/100\n",
            "1/1 [==============================] - 0s 19ms/step - loss: 0.1806\n",
            "Epoch 46/100\n",
            "1/1 [==============================] - 0s 19ms/step - loss: 0.1704\n",
            "Epoch 47/100\n",
            "1/1 [==============================] - 0s 22ms/step - loss: 0.1814\n",
            "Epoch 48/100\n",
            "1/1 [==============================] - 0s 17ms/step - loss: 0.1620\n",
            "Epoch 49/100\n",
            "1/1 [==============================] - 0s 20ms/step - loss: 0.1240\n",
            "Epoch 50/100\n",
            "1/1 [==============================] - 0s 18ms/step - loss: 0.1447\n",
            "Epoch 51/100\n",
            "1/1 [==============================] - 0s 15ms/step - loss: 0.1539\n",
            "Epoch 52/100\n",
            "1/1 [==============================] - 0s 16ms/step - loss: 0.1930\n",
            "Epoch 53/100\n",
            "1/1 [==============================] - 0s 15ms/step - loss: 0.1247\n",
            "Epoch 54/100\n",
            "1/1 [==============================] - 0s 14ms/step - loss: 0.1386\n",
            "Epoch 55/100\n",
            "1/1 [==============================] - 0s 16ms/step - loss: 0.1961\n",
            "Epoch 56/100\n",
            "1/1 [==============================] - 0s 16ms/step - loss: 0.1748\n",
            "Epoch 57/100\n",
            "1/1 [==============================] - 0s 15ms/step - loss: 0.1924\n",
            "Epoch 58/100\n",
            "1/1 [==============================] - 0s 15ms/step - loss: 0.1612\n",
            "Epoch 59/100\n",
            "1/1 [==============================] - 0s 17ms/step - loss: 0.2254\n",
            "Epoch 60/100\n",
            "1/1 [==============================] - 0s 15ms/step - loss: 0.1725\n",
            "Epoch 61/100\n",
            "1/1 [==============================] - 0s 15ms/step - loss: 0.1095\n",
            "Epoch 62/100\n",
            "1/1 [==============================] - 0s 15ms/step - loss: 0.1389\n",
            "Epoch 63/100\n",
            "1/1 [==============================] - 0s 15ms/step - loss: 0.1408\n",
            "Epoch 64/100\n",
            "1/1 [==============================] - 0s 19ms/step - loss: 0.1566\n",
            "Epoch 65/100\n",
            "1/1 [==============================] - 0s 16ms/step - loss: 0.1877\n",
            "Epoch 66/100\n",
            "1/1 [==============================] - 0s 16ms/step - loss: 0.1845\n",
            "Epoch 67/100\n",
            "1/1 [==============================] - 0s 15ms/step - loss: 0.1620\n",
            "Epoch 68/100\n",
            "1/1 [==============================] - 0s 15ms/step - loss: 0.1798\n",
            "Epoch 69/100\n",
            "1/1 [==============================] - 0s 21ms/step - loss: 0.1758\n",
            "Epoch 70/100\n",
            "1/1 [==============================] - 0s 20ms/step - loss: 0.1462\n",
            "Epoch 71/100\n",
            "1/1 [==============================] - 0s 16ms/step - loss: 0.2086\n",
            "Epoch 72/100\n",
            "1/1 [==============================] - 0s 23ms/step - loss: 0.1151\n",
            "Epoch 73/100\n",
            "1/1 [==============================] - 0s 19ms/step - loss: 0.1764\n",
            "Epoch 74/100\n",
            "1/1 [==============================] - 0s 15ms/step - loss: 0.1579\n",
            "Epoch 75/100\n",
            "1/1 [==============================] - 0s 17ms/step - loss: 0.1123\n",
            "Epoch 76/100\n",
            "1/1 [==============================] - 0s 21ms/step - loss: 0.1586\n",
            "Epoch 77/100\n",
            "1/1 [==============================] - 0s 17ms/step - loss: 0.1830\n",
            "Epoch 78/100\n",
            "1/1 [==============================] - 0s 15ms/step - loss: 0.1877\n",
            "Epoch 79/100\n",
            "1/1 [==============================] - 0s 15ms/step - loss: 0.1436\n",
            "Epoch 80/100\n",
            "1/1 [==============================] - 0s 15ms/step - loss: 0.1747\n",
            "Epoch 81/100\n",
            "1/1 [==============================] - 0s 16ms/step - loss: 0.1295\n",
            "Epoch 82/100\n",
            "1/1 [==============================] - 0s 16ms/step - loss: 0.1833\n",
            "Epoch 83/100\n",
            "1/1 [==============================] - 0s 18ms/step - loss: 0.1395\n",
            "Epoch 84/100\n",
            "1/1 [==============================] - 0s 17ms/step - loss: 0.1810\n",
            "Epoch 85/100\n",
            "1/1 [==============================] - 0s 16ms/step - loss: 0.1452\n",
            "Epoch 86/100\n",
            "1/1 [==============================] - 0s 19ms/step - loss: 0.1750\n",
            "Epoch 87/100\n",
            "1/1 [==============================] - 0s 20ms/step - loss: 0.1825\n",
            "Epoch 88/100\n",
            "1/1 [==============================] - 0s 19ms/step - loss: 0.1553\n",
            "Epoch 89/100\n",
            "1/1 [==============================] - 0s 17ms/step - loss: 0.1763\n",
            "Epoch 90/100\n",
            "1/1 [==============================] - 0s 15ms/step - loss: 0.1349\n",
            "Epoch 91/100\n",
            "1/1 [==============================] - 0s 18ms/step - loss: 0.1816\n",
            "Epoch 92/100\n",
            "1/1 [==============================] - 0s 21ms/step - loss: 0.1548\n",
            "Epoch 93/100\n",
            "1/1 [==============================] - 0s 21ms/step - loss: 0.1661\n",
            "Epoch 94/100\n",
            "1/1 [==============================] - 0s 17ms/step - loss: 0.1410\n",
            "Epoch 95/100\n",
            "1/1 [==============================] - 0s 16ms/step - loss: 0.1771\n",
            "Epoch 96/100\n",
            "1/1 [==============================] - 0s 17ms/step - loss: 0.2016\n",
            "Epoch 97/100\n",
            "1/1 [==============================] - 0s 20ms/step - loss: 0.1521\n",
            "Epoch 98/100\n",
            "1/1 [==============================] - 0s 17ms/step - loss: 0.1387\n",
            "Epoch 99/100\n",
            "1/1 [==============================] - 0s 16ms/step - loss: 0.1660\n",
            "Epoch 100/100\n",
            "1/1 [==============================] - 0s 18ms/step - loss: 0.1716\n"
          ]
        },
        {
          "output_type": "execute_result",
          "data": {
            "text/plain": [
              "<keras.callbacks.History at 0x7f7828aca350>"
            ]
          },
          "metadata": {},
          "execution_count": 50
        }
      ]
    },
    {
      "cell_type": "code",
      "source": [
        "dataset_test=pd.read_csv(\"/content/Google_Stock_Price_Test.csv.xls\", index_col=\"Date\", parse_dates=True)"
      ],
      "metadata": {
        "id": "BhCht_VDEcJ3"
      },
      "execution_count": null,
      "outputs": []
    },
    {
      "cell_type": "code",
      "source": [
        "\n",
        "real_stock_price=dataset_test.iloc[:, 1:2].values"
      ],
      "metadata": {
        "id": "LGs_mzjKEcMk"
      },
      "execution_count": null,
      "outputs": []
    },
    {
      "cell_type": "code",
      "source": [
        "dataset_test.head()"
      ],
      "metadata": {
        "id": "e6B7PqFUE2Ad",
        "colab": {
          "base_uri": "https://localhost:8080/",
          "height": 237
        },
        "outputId": "5ac1b206-ac93-432b-dfdd-7092fcae8206"
      },
      "execution_count": null,
      "outputs": [
        {
          "output_type": "execute_result",
          "data": {
            "text/plain": [
              "              Open    High     Low   Close    Volume\n",
              "Date                                                \n",
              "2012-01-03  325.25  332.83  324.97  325.59   7380500\n",
              "2012-01-04  331.27  333.87  329.08  332.45   5749400\n",
              "2012-01-05  329.83  330.75  326.89  330.21   6593000\n",
              "2012-01-06  328.34  328.77  323.68  328.24   5405900\n",
              "2012-01-09  322.04  322.29  309.46  321.76  11688800"
            ],
            "text/html": [
              "\n",
              "  <div id=\"df-6811e52e-085f-434f-a127-d6d7b6148c64\">\n",
              "    <div class=\"colab-df-container\">\n",
              "      <div>\n",
              "<style scoped>\n",
              "    .dataframe tbody tr th:only-of-type {\n",
              "        vertical-align: middle;\n",
              "    }\n",
              "\n",
              "    .dataframe tbody tr th {\n",
              "        vertical-align: top;\n",
              "    }\n",
              "\n",
              "    .dataframe thead th {\n",
              "        text-align: right;\n",
              "    }\n",
              "</style>\n",
              "<table border=\"1\" class=\"dataframe\">\n",
              "  <thead>\n",
              "    <tr style=\"text-align: right;\">\n",
              "      <th></th>\n",
              "      <th>Open</th>\n",
              "      <th>High</th>\n",
              "      <th>Low</th>\n",
              "      <th>Close</th>\n",
              "      <th>Volume</th>\n",
              "    </tr>\n",
              "    <tr>\n",
              "      <th>Date</th>\n",
              "      <th></th>\n",
              "      <th></th>\n",
              "      <th></th>\n",
              "      <th></th>\n",
              "      <th></th>\n",
              "    </tr>\n",
              "  </thead>\n",
              "  <tbody>\n",
              "    <tr>\n",
              "      <th>2012-01-03</th>\n",
              "      <td>325.25</td>\n",
              "      <td>332.83</td>\n",
              "      <td>324.97</td>\n",
              "      <td>325.59</td>\n",
              "      <td>7380500</td>\n",
              "    </tr>\n",
              "    <tr>\n",
              "      <th>2012-01-04</th>\n",
              "      <td>331.27</td>\n",
              "      <td>333.87</td>\n",
              "      <td>329.08</td>\n",
              "      <td>332.45</td>\n",
              "      <td>5749400</td>\n",
              "    </tr>\n",
              "    <tr>\n",
              "      <th>2012-01-05</th>\n",
              "      <td>329.83</td>\n",
              "      <td>330.75</td>\n",
              "      <td>326.89</td>\n",
              "      <td>330.21</td>\n",
              "      <td>6593000</td>\n",
              "    </tr>\n",
              "    <tr>\n",
              "      <th>2012-01-06</th>\n",
              "      <td>328.34</td>\n",
              "      <td>328.77</td>\n",
              "      <td>323.68</td>\n",
              "      <td>328.24</td>\n",
              "      <td>5405900</td>\n",
              "    </tr>\n",
              "    <tr>\n",
              "      <th>2012-01-09</th>\n",
              "      <td>322.04</td>\n",
              "      <td>322.29</td>\n",
              "      <td>309.46</td>\n",
              "      <td>321.76</td>\n",
              "      <td>11688800</td>\n",
              "    </tr>\n",
              "  </tbody>\n",
              "</table>\n",
              "</div>\n",
              "      <button class=\"colab-df-convert\" onclick=\"convertToInteractive('df-6811e52e-085f-434f-a127-d6d7b6148c64')\"\n",
              "              title=\"Convert this dataframe to an interactive table.\"\n",
              "              style=\"display:none;\">\n",
              "        \n",
              "  <svg xmlns=\"http://www.w3.org/2000/svg\" height=\"24px\"viewBox=\"0 0 24 24\"\n",
              "       width=\"24px\">\n",
              "    <path d=\"M0 0h24v24H0V0z\" fill=\"none\"/>\n",
              "    <path d=\"M18.56 5.44l.94 2.06.94-2.06 2.06-.94-2.06-.94-.94-2.06-.94 2.06-2.06.94zm-11 1L8.5 8.5l.94-2.06 2.06-.94-2.06-.94L8.5 2.5l-.94 2.06-2.06.94zm10 10l.94 2.06.94-2.06 2.06-.94-2.06-.94-.94-2.06-.94 2.06-2.06.94z\"/><path d=\"M17.41 7.96l-1.37-1.37c-.4-.4-.92-.59-1.43-.59-.52 0-1.04.2-1.43.59L10.3 9.45l-7.72 7.72c-.78.78-.78 2.05 0 2.83L4 21.41c.39.39.9.59 1.41.59.51 0 1.02-.2 1.41-.59l7.78-7.78 2.81-2.81c.8-.78.8-2.07 0-2.86zM5.41 20L4 18.59l7.72-7.72 1.47 1.35L5.41 20z\"/>\n",
              "  </svg>\n",
              "      </button>\n",
              "      \n",
              "  <style>\n",
              "    .colab-df-container {\n",
              "      display:flex;\n",
              "      flex-wrap:wrap;\n",
              "      gap: 12px;\n",
              "    }\n",
              "\n",
              "    .colab-df-convert {\n",
              "      background-color: #E8F0FE;\n",
              "      border: none;\n",
              "      border-radius: 50%;\n",
              "      cursor: pointer;\n",
              "      display: none;\n",
              "      fill: #1967D2;\n",
              "      height: 32px;\n",
              "      padding: 0 0 0 0;\n",
              "      width: 32px;\n",
              "    }\n",
              "\n",
              "    .colab-df-convert:hover {\n",
              "      background-color: #E2EBFA;\n",
              "      box-shadow: 0px 1px 2px rgba(60, 64, 67, 0.3), 0px 1px 3px 1px rgba(60, 64, 67, 0.15);\n",
              "      fill: #174EA6;\n",
              "    }\n",
              "\n",
              "    [theme=dark] .colab-df-convert {\n",
              "      background-color: #3B4455;\n",
              "      fill: #D2E3FC;\n",
              "    }\n",
              "\n",
              "    [theme=dark] .colab-df-convert:hover {\n",
              "      background-color: #434B5C;\n",
              "      box-shadow: 0px 1px 3px 1px rgba(0, 0, 0, 0.15);\n",
              "      filter: drop-shadow(0px 1px 2px rgba(0, 0, 0, 0.3));\n",
              "      fill: #FFFFFF;\n",
              "    }\n",
              "  </style>\n",
              "\n",
              "      <script>\n",
              "        const buttonEl =\n",
              "          document.querySelector('#df-6811e52e-085f-434f-a127-d6d7b6148c64 button.colab-df-convert');\n",
              "        buttonEl.style.display =\n",
              "          google.colab.kernel.accessAllowed ? 'block' : 'none';\n",
              "\n",
              "        async function convertToInteractive(key) {\n",
              "          const element = document.querySelector('#df-6811e52e-085f-434f-a127-d6d7b6148c64');\n",
              "          const dataTable =\n",
              "            await google.colab.kernel.invokeFunction('convertToInteractive',\n",
              "                                                     [key], {});\n",
              "          if (!dataTable) return;\n",
              "\n",
              "          const docLinkHtml = 'Like what you see? Visit the ' +\n",
              "            '<a target=\"_blank\" href=https://colab.research.google.com/notebooks/data_table.ipynb>data table notebook</a>'\n",
              "            + ' to learn more about interactive tables.';\n",
              "          element.innerHTML = '';\n",
              "          dataTable['output_type'] = 'display_data';\n",
              "          await google.colab.output.renderOutput(dataTable, element);\n",
              "          const docLink = document.createElement('div');\n",
              "          docLink.innerHTML = docLinkHtml;\n",
              "          element.appendChild(docLink);\n",
              "        }\n",
              "      </script>\n",
              "    </div>\n",
              "  </div>\n",
              "  "
            ]
          },
          "metadata": {},
          "execution_count": 53
        }
      ]
    },
    {
      "cell_type": "code",
      "source": [
        "dataset_test.info()"
      ],
      "metadata": {
        "colab": {
          "base_uri": "https://localhost:8080/"
        },
        "id": "bi2nwzOLE2Cb",
        "outputId": "c55600a7-0bcf-413e-9117-f517e45c8c45"
      },
      "execution_count": null,
      "outputs": [
        {
          "output_type": "stream",
          "name": "stdout",
          "text": [
            "<class 'pandas.core.frame.DataFrame'>\n",
            "DatetimeIndex: 5 entries, 2012-01-03 to 2012-01-09\n",
            "Data columns (total 5 columns):\n",
            " #   Column  Non-Null Count  Dtype  \n",
            "---  ------  --------------  -----  \n",
            " 0   Open    5 non-null      float64\n",
            " 1   High    5 non-null      float64\n",
            " 2   Low     5 non-null      float64\n",
            " 3   Close   5 non-null      float64\n",
            " 4   Volume  5 non-null      int64  \n",
            "dtypes: float64(4), int64(1)\n",
            "memory usage: 240.0 bytes\n"
          ]
        }
      ]
    },
    {
      "cell_type": "code",
      "source": [
        "dataset_test[\"Volume\"]=dataset_test[\"Volume\"].astype(str).str.replace(',','').astype(float)\n"
      ],
      "metadata": {
        "id": "HBKT8d_vE2Fj"
      },
      "execution_count": null,
      "outputs": []
    },
    {
      "cell_type": "code",
      "source": [
        "test_set=dataset_test['Open']\n",
        "test_set=pd.DataFrame(test_set)"
      ],
      "metadata": {
        "id": "elup1yUjE2H7"
      },
      "execution_count": null,
      "outputs": []
    },
    {
      "cell_type": "code",
      "source": [
        "test_set.info()"
      ],
      "metadata": {
        "colab": {
          "base_uri": "https://localhost:8080/"
        },
        "id": "OBsN8JqsFFha",
        "outputId": "a7322679-c9a0-4dfe-fc3e-29a73fd98bc9"
      },
      "execution_count": null,
      "outputs": [
        {
          "output_type": "stream",
          "name": "stdout",
          "text": [
            "<class 'pandas.core.frame.DataFrame'>\n",
            "DatetimeIndex: 5 entries, 2012-01-03 to 2012-01-09\n",
            "Data columns (total 1 columns):\n",
            " #   Column  Non-Null Count  Dtype  \n",
            "---  ------  --------------  -----  \n",
            " 0   Open    5 non-null      float64\n",
            "dtypes: float64(1)\n",
            "memory usage: 80.0 bytes\n"
          ]
        }
      ]
    },
    {
      "cell_type": "code",
      "source": [
        "dataset_total=pd.concat((dataset['Open'], dataset_test['Open']), axis=0)\n",
        "inputs=dataset_total[len(dataset_total)-len(dataset_test)-1:].values\n",
        "inputs=inputs.reshape(-1,1)\n",
        "inputs=sc.transform(inputs)\n",
        "X_test=[]\n",
        "for i in range(1,5):\n",
        "    X_test.append(inputs[i-1:i,0])\n",
        "X_test=np.array(X_test)\n",
        "X_test=np.reshape(X_test,(X_test.shape[0], X_test.shape[1],1))\n",
        "pred_price=regressor.predict(X_test)\n",
        "pred_price=sc.inverse_transform(pred_price)"
      ],
      "metadata": {
        "colab": {
          "base_uri": "https://localhost:8080/"
        },
        "id": "wd1SjzYEFFj3",
        "outputId": "d5eabf05-6ac4-4a08-e28b-3cba2c145b04"
      },
      "execution_count": null,
      "outputs": [
        {
          "output_type": "stream",
          "name": "stderr",
          "text": [
            "/usr/local/lib/python3.10/dist-packages/sklearn/base.py:439: UserWarning: X does not have valid feature names, but MinMaxScaler was fitted with feature names\n",
            "  warnings.warn(\n"
          ]
        },
        {
          "output_type": "stream",
          "name": "stdout",
          "text": [
            "1/1 [==============================] - 2s 2s/step\n"
          ]
        }
      ]
    },
    {
      "cell_type": "code",
      "source": [
        "\n",
        "pred_price=pd.DataFrame(pred_price)\n",
        "pred_price.info()"
      ],
      "metadata": {
        "colab": {
          "base_uri": "https://localhost:8080/"
        },
        "id": "7V_adICiFFp6",
        "outputId": "72a23b5f-5415-4d33-9b7f-c02c408f09e1"
      },
      "execution_count": null,
      "outputs": [
        {
          "output_type": "stream",
          "name": "stdout",
          "text": [
            "<class 'pandas.core.frame.DataFrame'>\n",
            "RangeIndex: 4 entries, 0 to 3\n",
            "Data columns (total 1 columns):\n",
            " #   Column  Non-Null Count  Dtype  \n",
            "---  ------  --------------  -----  \n",
            " 0   0       4 non-null      float32\n",
            "dtypes: float32(1)\n",
            "memory usage: 144.0 bytes\n"
          ]
        }
      ]
    },
    {
      "cell_type": "code",
      "source": [
        "plt.plot(real_stock_price, color=\"red\", label=\"Real stock Price\")\n",
        "plt.plot(pred_price, color=\"blue\", label=\"Predicted stock price\")\n",
        "plt.title(\"Google stock price prediction\")\n",
        "plt.xlabel(\"Time\")\n",
        "plt.ylabel(\"Google stock price\")\n",
        "plt.legend()\n",
        "plt.show()"
      ],
      "metadata": {
        "colab": {
          "base_uri": "https://localhost:8080/",
          "height": 472
        },
        "id": "kwIOI8OWFRz_",
        "outputId": "97390d03-98ce-49af-f72e-a5878f028f17"
      },
      "execution_count": null,
      "outputs": [
        {
          "output_type": "display_data",
          "data": {
            "text/plain": [
              "<Figure size 640x480 with 1 Axes>"
            ],
            "image/png": "[encoded data removed]"
          },
          "metadata": {}
        }
      ]
    }
  ]
}